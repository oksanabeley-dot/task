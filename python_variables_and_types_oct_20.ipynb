{
 "cells": [
  {
   "cell_type": "markdown",
   "id": "fa78fd60",
   "metadata": {},
   "source": [
    "# 🐍 Python для початківців: Типи даних та змінні\n",
    "---\n",
    "Цей ноутбук допоможе вам потренуватись у створенні змінних, роботі з базовими типами даних та написанні простих програм у Python.\n",
    "Виконуйте завдання послідовно у своїх комірках і звертайте увагу на результати."
   ]
  },
  {
   "cell_type": "markdown",
   "id": "c3b52ba9",
   "metadata": {},
   "source": [
    "## Розділ 1. Знайомство зі змінними\n",
    "**Мета:** навчитися створювати змінні, присвоювати значення та переглядати типи.\n",
    "\n",
    "**Завдання 1.** Створи змінні:\n",
    "- name — твоє ім’я\n",
    "- age — твій вік\n",
    "- city — місто, у якому ти живеш\n",
    "\n",
    "Потім виведи їх на екран."
   ]
  },
  {
   "cell_type": "code",
   "execution_count": 5,
   "id": "856622fc-13c5-4cbe-a6d2-f6ee50f8657d",
   "metadata": {},
   "outputs": [],
   "source": [
    "name = \"Oksana\"\n",
    "age = 53\n",
    "city = \"Rheinfelden (Baden)\""
   ]
  },
  {
   "cell_type": "markdown",
   "id": "8706e5b3-cd0c-4d95-8905-35f6bc804138",
   "metadata": {},
   "source": [
    "**Завдання 2.** \n",
    "Додай рядок:  "
   ]
  },
  {
   "cell_type": "code",
   "execution_count": 6,
   "id": "510f0c9d-08e8-488a-88f5-8bf7cb280394",
   "metadata": {},
   "outputs": [
    {
     "name": "stdout",
     "output_type": "stream",
     "text": [
      "Мене звати Oksana мені 53 років, я живу в Rheinfelden (Baden)\n"
     ]
    }
   ],
   "source": [
    "print (\"Мене звати\", name, \"мені\", age, \"років, я живу в\", city)\n"
   ]
  },
  {
   "cell_type": "markdown",
   "id": "73e7cbcd-c521-4b1e-afa8-991fa0391be8",
   "metadata": {},
   "source": [
    "**Завдання 3.** Використай функцію `type()` для кожної змінної та подивись, який у неї тип."
   ]
  },
  {
   "cell_type": "code",
   "execution_count": 3,
   "id": "052ba125-3258-4f5b-a28b-d6e00c276ad5",
   "metadata": {},
   "outputs": [
    {
     "name": "stdout",
     "output_type": "stream",
     "text": [
      "<class 'str'>\n",
      "<class 'int'>\n"
     ]
    }
   ],
   "source": [
    "print (type (name))\n",
    "print (type (age))"
   ]
  },
  {
   "cell_type": "markdown",
   "id": "21448605-f4b9-4a13-b1a6-c7faf5b341ec",
   "metadata": {},
   "source": [
    "**Завдання 4.**  \n",
    "Зміни значення змінної age на нове (наприклад, `age = age + 1`) і виведи нове речення:\n",
    "“Наступного року мені буде ... років.”"
   ]
  },
  {
   "cell_type": "code",
   "execution_count": 8,
   "id": "b2d8f775-0468-4a77-8434-81795f469e30",
   "metadata": {},
   "outputs": [
    {
     "name": "stdout",
     "output_type": "stream",
     "text": [
      "Наступного року мені буде 54 років\n"
     ]
    }
   ],
   "source": [
    "print (\"Наступного року мені буде\", age + 1 , \"років\")"
   ]
  },
  {
   "cell_type": "markdown",
   "id": "d0727d73",
   "metadata": {},
   "source": [
    "## Розділ 2. Основні типи даних\n",
    "**Мета:** попрактикуватись із `int`, `float`, `str`, `bool`.\n",
    "\n",
    "**Завдання 5.**  \n",
    "\n",
    "Створи змінні:\n",
    "- a = 10\n",
    "- b = 3.5\n",
    "- c = \"Python\""
   ]
  },
  {
   "cell_type": "code",
   "execution_count": 12,
   "id": "86a46277-acb2-4638-873d-ecc639f4ae45",
   "metadata": {},
   "outputs": [],
   "source": [
    "a = 10\n",
    "b = 3.5\n",
    "c = \"Python\""
   ]
  },
  {
   "cell_type": "markdown",
   "id": "a603a15e-ba30-45b4-89c9-85eacac03d71",
   "metadata": {},
   "source": [
    "**Завдання 6.**  \n",
    "\n",
    "Виконай такі дії та подивись, який буде результат:\n",
    "- a + b\n",
    "- a / 2\n",
    "- a // 2\n",
    "- a % 3\n",
    "- a ** 3"
   ]
  },
  {
   "cell_type": "code",
   "execution_count": 14,
   "id": "444b1fbc-3c78-4979-8111-f5c1b2cba283",
   "metadata": {},
   "outputs": [
    {
     "name": "stdout",
     "output_type": "stream",
     "text": [
      "a + b =  13.5\n",
      "a/b =  2.857142857142857\n",
      "a // b =  2.0\n",
      "a ** b =  3162.2776601683795\n"
     ]
    },
    {
     "data": {
      "text/plain": [
       "'PythonPythonPythonPythonPythonPythonPythonPythonPythonPython'"
      ]
     },
     "execution_count": 14,
     "metadata": {},
     "output_type": "execute_result"
    }
   ],
   "source": [
    "\n",
    "print (\"a + b = \", a + b)\n",
    "print (\"a/b = \", a / b)\n",
    "print (\"a // b = \", a // b)\n",
    "print (\"a ** b = \", a ** b)\n",
    "a * c"
   ]
  },
  {
   "cell_type": "markdown",
   "id": "f73c3474-06ab-4a54-85d8-e513bd2eb1ba",
   "metadata": {},
   "source": [
    "**Завдання 7.**  \n",
    "Зміни тип змінної `a` на `str` і об’єднай її з `c`."
   ]
  },
  {
   "cell_type": "code",
   "execution_count": 17,
   "id": "c14ba055-3e86-470e-a746-3ce55459ddcc",
   "metadata": {},
   "outputs": [
    {
     "data": {
      "text/plain": [
       "'10Python'"
      ]
     },
     "execution_count": 17,
     "metadata": {},
     "output_type": "execute_result"
    }
   ],
   "source": [
    "a = str (a)\n",
    "a + c"
   ]
  },
  {
   "cell_type": "markdown",
   "id": "4b2f7959-6625-4e16-955a-3fe36feccd28",
   "metadata": {},
   "source": [
    "**Завдання 8.**  \n",
    "Порівняй різні значення:\n",
    "- 5 > 2\n",
    "- 7 == 8\n",
    "- 10 != 10\n",
    "- 3 <= 5"
   ]
  },
  {
   "cell_type": "code",
   "execution_count": 19,
   "id": "d90029d4",
   "metadata": {},
   "outputs": [
    {
     "data": {
      "text/plain": [
       "True"
      ]
     },
     "execution_count": 19,
     "metadata": {},
     "output_type": "execute_result"
    }
   ],
   "source": [
    "5 > 2\n",
    "7 == 8\n",
    "10 != 10\n",
    "3 <= 5"
   ]
  },
  {
   "cell_type": "markdown",
   "id": "de824a18",
   "metadata": {},
   "source": [
    "## Розділ 3. Робота з рядками (`str`)"
   ]
  },
  {
   "cell_type": "markdown",
   "id": "e8b24352-1084-49b3-8942-7cd6c503986a",
   "metadata": {},
   "source": [
    "**Завдання 9.**  \n",
    "Створи рядок `text = \"Python is fun!\"`."
   ]
  },
  {
   "cell_type": "code",
   "execution_count": 25,
   "id": "399a3127-c23f-4a6b-9f91-5c5045624e75",
   "metadata": {},
   "outputs": [],
   "source": [
    "text = \"Python is fun!\""
   ]
  },
  {
   "cell_type": "markdown",
   "id": "7e3df9d8-e311-45a7-b2e0-5c518128ba8a",
   "metadata": {},
   "source": [
    "**Завдання 10.**  \n",
    "\n",
    "Виведи:\n",
    "- довжину рядка (len(text))\n",
    "- перший і останній символ\n",
    "- рядок у верхньому регістрі\n",
    "- рядок у нижньому регістрі"
   ]
  },
  {
   "cell_type": "code",
   "execution_count": 32,
   "id": "a89038b4-8e3f-4fe9-a222-c4992cdcd72e",
   "metadata": {},
   "outputs": [
    {
     "name": "stdout",
     "output_type": "stream",
     "text": [
      "PYTHON IS FUN!\n",
      "python is fun!\n"
     ]
    }
   ],
   "source": [
    "len(text)\n",
    "text[0]\n",
    "text[-1]\n",
    "print ( text.upper())\n",
    "print ( text.lower())"
   ]
  },
  {
   "cell_type": "markdown",
   "id": "3a724f21-9513-4a69-ac0a-46d62e1c003f",
   "metadata": {},
   "source": [
    "**Завдання 11.**  \n",
    "Створи речення з кількох змінних:  \n",
    "```\n",
    "lang = \"Python\"  \n",
    "level = \"beginner\"  \n",
    "print(f\"I am a {level} in {lang}\")\n",
    "```"
   ]
  },
  {
   "cell_type": "code",
   "execution_count": 35,
   "id": "30ada736",
   "metadata": {},
   "outputs": [
    {
     "name": "stdout",
     "output_type": "stream",
     "text": [
      "I am a beginner in Python\n"
     ]
    }
   ],
   "source": [
    "lang = \"Python\"\n",
    "level = \"beginner\"\n",
    "print(f\"I am a {level} in {lang}\")"
   ]
  },
  {
   "cell_type": "markdown",
   "id": "3b83e6f8-8fb1-4fc3-ae3a-3fa56e656b6d",
   "metadata": {},
   "source": [
    "**Завдання 12.**  \n",
    "Попроси користувача ввести своє ім’я через input() і виведи:  \n",
    "`print(\"Привіт,\", name + \"!\")`"
   ]
  },
  {
   "cell_type": "code",
   "execution_count": null,
   "id": "31de69f2",
   "metadata": {},
   "outputs": [
    {
     "name": "stdout",
     "output_type": "stream",
     "text": [
      "Name?\n",
      "Hi, Oksana !\n"
     ]
    }
   ],
   "source": [
    "print (\"Name?\") \n",
    "name=input()\n",
    "print (\"Hi,\",name,\"!\")"
   ]
  },
  {
   "cell_type": "markdown",
   "id": "7753ccd8",
   "metadata": {},
   "source": [
    "## Розділ 4. Робота з числами"
   ]
  },
  {
   "cell_type": "markdown",
   "id": "e4438c4f-cda8-41d5-83e6-aa4858ffe436",
   "metadata": {},
   "source": [
    "**Завдання 13.**  \n",
    "Обчисли площу прямокутника:\n",
    "- створи змінні `a = 5, b = 8`\n",
    "- знайди `area = a * b`\n",
    "- виведи результат: \"Площа прямокутника дорівнює ...\""
   ]
  },
  {
   "cell_type": "code",
   "execution_count": 45,
   "id": "a1085c26-6869-4634-a232-3706b658b6e0",
   "metadata": {},
   "outputs": [
    {
     "name": "stdout",
     "output_type": "stream",
     "text": [
      "Площа прямокутника = 40\n"
     ]
    }
   ],
   "source": [
    "a = 5\n",
    "b = 8\n",
    "area = a*b\n",
    "print (\"Площа прямокутника =\", area)"
   ]
  },
  {
   "cell_type": "markdown",
   "id": "9f8c365e-f1e7-49b1-819c-3419f5f25978",
   "metadata": {},
   "source": [
    "**Завдання 14.**  \n",
    "Обчисли середнє арифметичне трьох чисел, введених користувачем."
   ]
  },
  {
   "cell_type": "code",
   "execution_count": 48,
   "id": "d6a96f3a",
   "metadata": {},
   "outputs": [
    {
     "name": "stdout",
     "output_type": "stream",
     "text": [
      "Середнє арифметичне трьох чисел дорівнює  2.6666666666666665\n"
     ]
    }
   ],
   "source": [
    "n1 = float(input (\"введіть перше число:\"))\n",
    "n2 = float(input (\"введіть друге число:\"))\n",
    "n3 = float(input (\"введіть третє число:\"))\n",
    "average = (n1 + n2 + n3) / 3\n",
    "print (\"Середнє арифметичне трьох чисел дорівнює \", average )\n"
   ]
  },
  {
   "cell_type": "markdown",
   "id": "d9291030-e565-4f08-9c37-a0eec1117c66",
   "metadata": {},
   "source": [
    "**Завдання 15.**  \n",
    "Створи змінну `temperature_c = 25` і переведи її у Фаренгейти:  \n",
    "\n",
    "`temperature_f = temperature_c * 9/5 + 32`"
   ]
  },
  {
   "cell_type": "code",
   "execution_count": 51,
   "id": "d2f03ccc-ef08-4dcd-a8cb-241d6ee7289f",
   "metadata": {},
   "outputs": [
    {
     "name": "stdout",
     "output_type": "stream",
     "text": [
      "77.0\n"
     ]
    }
   ],
   "source": [
    "temperature_c = 25\n",
    "temperature_f = temperature_c * 9/5 + 32\n",
    "print(temperature_f)"
   ]
  },
  {
   "cell_type": "markdown",
   "id": "e96bdca1",
   "metadata": {},
   "source": [
    "## Розділ 5. Логічні вирази (`bool`)"
   ]
  },
  {
   "cell_type": "markdown",
   "id": "6d9bed6e-f6aa-417c-9c53-f1add4bfb940",
   "metadata": {},
   "source": [
    "**Завдання 16.**  \n",
    "Перевір, чи людина повнолітня:\n",
    "```\n",
    "age = int(input(\"Скільки тобі років? \"))\n",
    "is_adult = age >= 18\n",
    "print(\"Повнолітній?\", is_adult)"
   ]
  },
  {
   "cell_type": "code",
   "execution_count": 53,
   "id": "adeb4c07",
   "metadata": {},
   "outputs": [
    {
     "name": "stdout",
     "output_type": "stream",
     "text": [
      "Скільки тобі років?\n",
      "Повнолітній? True\n"
     ]
    }
   ],
   "source": [
    "print(\"Скільки тобі років?\")\n",
    "age = int(input())\n",
    "is_adult = age >=18\n",
    "print(\"Повнолітній?\", is_adult)"
   ]
  },
  {
   "cell_type": "markdown",
   "id": "3153f1f0-0332-4cea-9e45-83b02205319f",
   "metadata": {},
   "source": [
    "**Завдання 17.**  \n",
    "Напиши перевірку парності:  \n",
    "```\n",
    "number = int(input(\"Введи число: \"))\n",
    "print(\"Парне?\", number % 2 == 0)"
   ]
  },
  {
   "cell_type": "code",
   "execution_count": 57,
   "id": "e1a8ec27-96ff-4905-b45e-c6356079cb37",
   "metadata": {},
   "outputs": [
    {
     "name": "stdout",
     "output_type": "stream",
     "text": [
      "введи ціле число:\n",
      "парне? True\n"
     ]
    }
   ],
   "source": [
    "print(\"введи ціле число:\")\n",
    "number = int(input())\n",
    "print(\"парне?\", number % 2 == 0)"
   ]
  },
  {
   "cell_type": "markdown",
   "id": "4045878b-de49-4b55-806e-4eb4a42fc4f7",
   "metadata": {},
   "source": [
    "**Завдання 18.**  \n",
    "Створи дві змінні x = 10, y = 20.  \n",
    "Виведи результат:\n",
    "- `x > 5 and y < 30`\n",
    "- `x < 0 or y == 20`\n",
    "- `not(x > y)`"
   ]
  },
  {
   "cell_type": "code",
   "execution_count": 59,
   "id": "3470e65f-ef91-42fe-921e-35dce45d4eef",
   "metadata": {},
   "outputs": [
    {
     "data": {
      "text/plain": [
       "True"
      ]
     },
     "execution_count": 59,
     "metadata": {},
     "output_type": "execute_result"
    }
   ],
   "source": [
    "x = 10\n",
    "y = 20\n",
    "x > 5 and y < 30\n",
    "x < 0 or y == 20\n",
    "not(x > y)"
   ]
  },
  {
   "cell_type": "markdown",
   "id": "91957df2",
   "metadata": {},
   "source": [
    "## Розділ 6. Комбіновані завдання"
   ]
  },
  {
   "cell_type": "markdown",
   "id": "2e010973-8890-4f0d-96d7-6f00bd66d648",
   "metadata": {},
   "source": [
    "**Завдання 19.**  \n",
    "Попроси користувача ввести рік народження та обчисли вік.  \n",
    "Потім виведи:\n",
    "```\n",
    "\"Твій вік: ... років\"\n",
    "\"Повнолітній? True/False\""
   ]
  },
  {
   "cell_type": "code",
   "execution_count": 65,
   "id": "fca4cbb5-c441-40ca-8b07-e15916677b19",
   "metadata": {},
   "outputs": [
    {
     "name": "stdout",
     "output_type": "stream",
     "text": [
      "Твій рік народження?\n",
      "Твій вік 69\n",
      "Повнолітній? True\n"
     ]
    }
   ],
   "source": [
    "print(\"Твій рік народження?\")\n",
    "age = int(input())\n",
    "print(\"Твій вік\", 2025-age)\n",
    "is_adult = age >=18\n",
    "print(\"Повнолітній?\", is_adult)\n"
   ]
  },
  {
   "cell_type": "markdown",
   "id": "85b0adeb-8309-4173-a656-ab0758588aba",
   "metadata": {},
   "source": [
    "**Завдання 20.**  \n",
    "Створи калькулятор, який:\n",
    "- запитує два числа і дію (+, -, *, /)\n",
    "- виводить результат обчислення."
   ]
  },
  {
   "cell_type": "code",
   "execution_count": null,
   "id": "5b930abe",
   "metadata": {},
   "outputs": [
    {
     "name": "stdout",
     "output_type": "stream",
     "text": [
      "введіть перше число: \n",
      "введіть операцію: \n",
      "введіть друге число: \n",
      "невідома операція\n"
     ]
    }
   ],
   "source": [
    "print(\"введіть перше число: \")\n",
    "num1 = float(input())\n",
    "print(\"введіть операцію: \")\n",
    "op = (input())\n",
    "print(\"введіть друге число: \")\n",
    "num2 = float(input())\n",
    "if op == \"+\":\n",
    "    result = num1 + num2\n",
    "elif op == \"-\":\n",
    "    result = num1 - num2 \n",
    "elif op == \"*\":\n",
    "    result = num1 * num2 \n",
    "elif op == \"/\":\n",
    "    if num2 != 0:\n",
    "        result = num1 / num2 \n",
    "    else:\n",
    "        result = \"помилка, діленя на 0\"\n",
    "else: \n",
    "    result = \"невідома операція\"\n",
    "\n",
    "print (result)\n"
   ]
  },
  {
   "cell_type": "markdown",
   "id": "ebc497ad-f71d-4d90-87ac-47335efe30a0",
   "metadata": {},
   "source": [
    "**Завдання 21.**  \n",
    "Створи просту програму для обчислення індексу маси тіла (BMI):\n",
    "```\n",
    "weight = float(input(\"Введи вагу (кг): \"))\n",
    "height = float(input(\"Введи зріст (м): \"))\n",
    "bmi = weight / (height ** 2)\n",
    "print(\"Твій індекс маси тіла:\", bmi)"
   ]
  },
  {
   "cell_type": "code",
   "execution_count": 74,
   "id": "81c56018-cd30-474e-aade-61cbeb2887b1",
   "metadata": {},
   "outputs": [
    {
     "name": "stdout",
     "output_type": "stream",
     "text": [
      "Твій індекс маси тіла:  0.002825698988697204\n"
     ]
    }
   ],
   "source": [
    "weight = float (input(\"введіть вагу (кг): \"))\n",
    "height = float (input(\"введіть зріст (м): \"))\n",
    "bmi = weight / (height ** 2)\n",
    "print (\"Твій індекс маси тіла: \", bmi)"
   ]
  },
  {
   "cell_type": "markdown",
   "id": "69c564ad-7b30-401a-b3e2-28ac47342f55",
   "metadata": {},
   "source": [
    "**Завдання 22.**  \n",
    "Створи змінну `sentence = \"learning python is easy and fun\"`\n",
    "\n",
    "1. перетвори першу літеру у велику `(capitalize())`\n",
    "2. порахуй, скільки разів зустрічається літера \"a\"\n",
    "3. перевір, чи рядок містить слово \"fun\""
   ]
  },
  {
   "cell_type": "code",
   "execution_count": 76,
   "id": "4fc64f6a",
   "metadata": {},
   "outputs": [
    {
     "ename": "NameError",
     "evalue": "name 'capitalize' is not defined",
     "output_type": "error",
     "traceback": [
      "\u001b[31m---------------------------------------------------------------------------\u001b[39m",
      "\u001b[31mNameError\u001b[39m                                 Traceback (most recent call last)",
      "\u001b[36mCell\u001b[39m\u001b[36m \u001b[39m\u001b[32mIn[76]\u001b[39m\u001b[32m, line 2\u001b[39m\n\u001b[32m      1\u001b[39m sentence = \u001b[33m\"\u001b[39m\u001b[33mlearning python is easy and fun\u001b[39m\u001b[33m\"\u001b[39m\n\u001b[32m----> \u001b[39m\u001b[32m2\u001b[39m \u001b[43mcapitalize\u001b[49m(sentence)\n",
      "\u001b[31mNameError\u001b[39m: name 'capitalize' is not defined"
     ]
    }
   ],
   "source": [
    "sentence = \"learning python is easy and fun\"\n",
    "capitalize(sentence)\n"
   ]
  },
  {
   "cell_type": "markdown",
   "id": "1df0a6a8-5cd9-4cf4-9194-1fd180ccd561",
   "metadata": {},
   "source": [
    "**Завдання 23.**  \n",
    "🧮 Конвертер валют\n",
    "Попроси користувача ввести суму в євро та курс долара.\n",
    "Обчисли, скільки це буде в доларах."
   ]
  },
  {
   "cell_type": "code",
   "execution_count": null,
   "id": "2b7223b6-672b-4824-851d-2f6ba6b39a29",
   "metadata": {},
   "outputs": [],
   "source": []
  },
  {
   "cell_type": "markdown",
   "id": "adf0a7b4-33fa-4058-b336-4fc95b224fbe",
   "metadata": {},
   "source": [
    "**Завдання 24.**  \n",
    "📆 Калькулятор віку  \n",
    "Введи поточний рік і рік народження користувача.  \n",
    "Порахуйте, скільки років людині буде через 5 років."
   ]
  },
  {
   "cell_type": "code",
   "execution_count": null,
   "id": "1ed024b3-ad81-4337-85be-1a318513117b",
   "metadata": {},
   "outputs": [],
   "source": []
  },
  {
   "cell_type": "markdown",
   "id": "71120ddb-d66a-4a76-b226-2867b1edd624",
   "metadata": {},
   "source": [
    "**Завдання 25.**  \n",
    "Користувач вводить:\n",
    "- ім’я\n",
    "- улюблену мову програмування\n",
    "\n",
    "Якщо це \"Python\" — вивести \"Ти крутий!\",  \n",
    "інакше — \"Треба спробувати Python:)\""
   ]
  },
  {
   "cell_type": "code",
   "execution_count": null,
   "id": "ddd6dc5f-d4a9-4677-9828-b917a8553246",
   "metadata": {},
   "outputs": [],
   "source": []
  }
 ],
 "metadata": {
  "kernelspec": {
   "display_name": "Python 3",
   "language": "python",
   "name": "python3"
  },
  "language_info": {
   "codemirror_mode": {
    "name": "ipython",
    "version": 3
   },
   "file_extension": ".py",
   "mimetype": "text/x-python",
   "name": "python",
   "nbconvert_exporter": "python",
   "pygments_lexer": "ipython3",
   "version": "3.14.0"
  }
 },
 "nbformat": 4,
 "nbformat_minor": 5
}
